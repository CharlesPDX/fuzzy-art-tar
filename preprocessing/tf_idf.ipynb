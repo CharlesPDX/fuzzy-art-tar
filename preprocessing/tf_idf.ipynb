{
 "cells": [
  {
   "cell_type": "code",
   "execution_count": null,
   "metadata": {},
   "outputs": [],
   "source": [
    "import os\n",
    "from sklearn.feature_extraction.text import TfidfVectorizer\n",
    "corpora_root_path = os.path.abspath(\"../../corpora\")\n",
    "twenty_newsgroup_corpus = \"20_newsgroups\"\n",
    "full_twenty_newsgroup_path = os.path.join(corpora_root_path, twenty_newsgroup_corpus)"
   ]
  },
  {
   "cell_type": "code",
   "execution_count": null,
   "metadata": {},
   "outputs": [],
   "source": [
    "def get_corpus_files(corpus, full_path):\n",
    "    for root, _, file in os.walk(full_path):\n",
    "        if os.path.split(root)[1] == corpus:\n",
    "            continue\n",
    "\n",
    "        for file in file:\n",
    "            # print(os.path.join(root,file))\n",
    "            yield os.path.join(root,file)"
   ]
  },
  {
   "cell_type": "code",
   "execution_count": null,
   "metadata": {},
   "outputs": [],
   "source": [
    "def get_newsgroup_categories():\n",
    "    return {index: os.path.split(os.path.split(file)[0])[1] for index, file in enumerate(get_corpus_files(twenty_newsgroup_corpus, full_twenty_newsgroup_path))}\n",
    "\n",
    "# print(get_newsgroup_categories())"
   ]
  },
  {
   "cell_type": "code",
   "execution_count": null,
   "metadata": {},
   "outputs": [],
   "source": [
    "play_corpus = [\n",
    "    'This is the first document.',\n",
    "    'This document is the second document.',\n",
    "    'And this is the third one.',\n",
    "    'Is this the first document?',\n",
    "    \"And this is about the first document.\",\n",
    "    \"What about the third document?\",\n",
    "    \"The first document is the important one.\",\n",
    "    \"Totally irrelevant document\"\n",
    "]\n"
   ]
  },
  {
   "cell_type": "code",
   "execution_count": null,
   "metadata": {},
   "outputs": [],
   "source": [
    "twenty_newsgroup_vectorizer = TfidfVectorizer(input='filename', encoding=\"latin1\", stop_words='english', min_df=0.001, max_df=0.9)\n",
    "twenty_newsgroup_vectorized_corpus = twenty_newsgroup_vectorizer.fit_transform(get_corpus_files(twenty_newsgroup_corpus, full_twenty_newsgroup_path))"
   ]
  },
  {
   "cell_type": "code",
   "execution_count": null,
   "metadata": {},
   "outputs": [],
   "source": [
    "print(twenty_newsgroup_vectorized_corpus.shape)\n",
    "print(twenty_newsgroup_vectorizer.get_feature_names_out())"
   ]
  },
  {
   "cell_type": "code",
   "execution_count": null,
   "metadata": {},
   "outputs": [],
   "source": [
    "corpus_files = list(get_corpus_files(twenty_newsgroup_corpus, full_twenty_newsgroup_path))\n",
    "categories = get_newsgroup_categories()\n",
    "print(categories[10])\n",
    "features = twenty_newsgroup_vectorizer.get_feature_names_out()\n",
    "for feature_index in twenty_newsgroup_vectorized_corpus[10].indices:\n",
    "    print(features[feature_index])"
   ]
  }
 ],
 "metadata": {
  "interpreter": {
   "hash": "32088a6ccdb2941c5a245bfcb34259864a4527f09fc61fc16b2c1b48f4b25db1"
  },
  "kernelspec": {
   "display_name": "Python 3.9.5 64-bit ('.venv': venv)",
   "language": "python",
   "name": "python3"
  },
  "language_info": {
   "codemirror_mode": {
    "name": "ipython",
    "version": 3
   },
   "file_extension": ".py",
   "mimetype": "text/x-python",
   "name": "python",
   "nbconvert_exporter": "python",
   "pygments_lexer": "ipython3",
   "version": "3.9.5"
  },
  "orig_nbformat": 4
 },
 "nbformat": 4,
 "nbformat_minor": 2
}
