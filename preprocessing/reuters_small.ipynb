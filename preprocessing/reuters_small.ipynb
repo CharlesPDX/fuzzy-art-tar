{
 "cells": [
  {
   "cell_type": "code",
   "execution_count": null,
   "metadata": {},
   "outputs": [],
   "source": [
    "import os\n",
    "from reuters_small_parser import ReutersParser\n",
    "from sklearn.feature_extraction.text import TfidfVectorizer\n",
    "corpora_root_path = os.path.abspath(\"../../corpora\")\n",
    "reuters_small_corpus = \"reuters21578\"\n",
    "full_reuters_small_path = os.path.join(corpora_root_path, reuters_small_corpus)"
   ]
  },
  {
   "cell_type": "code",
   "execution_count": null,
   "metadata": {},
   "outputs": [],
   "source": [
    "def get_corpus_files(full_path):\n",
    "    for root, _, file in os.walk(full_path):\n",
    "        for file in file:\n",
    "            if \".sgm\" in file:\n",
    "                # print(os.path.join(root,file))\n",
    "                yield os.path.join(root,file)"
   ]
  },
  {
   "cell_type": "code",
   "execution_count": null,
   "metadata": {},
   "outputs": [],
   "source": [
    "def sample_document(vectorizer, vectorized_corpus, document_index):\n",
    "    features = vectorizer.get_feature_names_out()\n",
    "    for feature_index in vectorized_corpus[document_index].indices:\n",
    "        print(features[feature_index])"
   ]
  },
  {
   "cell_type": "code",
   "execution_count": null,
   "metadata": {},
   "outputs": [],
   "source": [
    "parser = ReutersParser()\n",
    "documents = {}\n",
    "for file in get_corpus_files(full_reuters_small_path):\n",
    "    with open(file, 'rb') as corpus_file:\n",
    "        documents.update(parser.parse(corpus_file))\n",
    "print(len(documents))"
   ]
  },
  {
   "cell_type": "code",
   "execution_count": null,
   "metadata": {},
   "outputs": [],
   "source": [
    "documents_with_topics = {document_id: document for document_id, document in documents.items() if len(document[\"topics\"]) > 0}\n",
    "print(len(documents_with_topics))"
   ]
  },
  {
   "cell_type": "code",
   "execution_count": null,
   "metadata": {},
   "outputs": [],
   "source": [
    "documents_with_topics_and_bodies = {document_id: document for document_id, document in documents_with_topics.items() if len(document[\"body\"]) > 0}\n",
    "print(len(documents_with_topics_and_bodies))"
   ]
  },
  {
   "cell_type": "code",
   "execution_count": null,
   "metadata": {},
   "outputs": [],
   "source": [
    "reuters_small_vectorizer = TfidfVectorizer(input='content', encoding=\"latin1\", stop_words='english', min_df=0.001, max_df=0.9)\n",
    "reuters_small_vectorized_corpus = reuters_small_vectorizer.fit_transform([document[\"body\"] for document in documents_with_topics_and_bodies.values()])"
   ]
  },
  {
   "cell_type": "code",
   "execution_count": null,
   "metadata": {},
   "outputs": [],
   "source": [
    "document_corpus_index_map = {index: document_id for index, document_id in enumerate(documents_with_topics_and_bodies.keys())}\n"
   ]
  },
  {
   "cell_type": "code",
   "execution_count": null,
   "metadata": {},
   "outputs": [],
   "source": [
    "document_id = document_corpus_index_map[0]\n",
    "document = documents_with_topics_and_bodies[document_id]\n",
    "print(document[\"body\"])\n",
    "sample_document(reuters_small_vectorizer, reuters_small_vectorized_corpus, 0)"
   ]
  },
  {
   "cell_type": "code",
   "execution_count": 35,
   "metadata": {},
   "outputs": [
    {
     "name": "stdout",
     "output_type": "stream",
     "text": [
      "Counter({'earn': 3776, 'acq': 2210, 'money-fx': 684, 'grain': 574, 'crude': 566, 'trade': 514, 'interest': 424, 'ship': 295, 'wheat': 287, 'corn': 223, 'oilseed': 182, 'sugar': 175, 'dlr': 168, 'gnp': 153, 'coffee': 143, 'veg-oil': 136, 'gold': 133, 'money-supply': 126, 'nat-gas': 126, 'livestock': 112, 'soybean': 111, 'bop': 101, 'cpi': 101, 'copper': 77, 'carcass': 75, 'reserves': 73, 'cocoa': 68, 'jobs': 68, 'rice': 67, 'iron-steel': 65, 'cotton': 62, 'alum': 58, 'yen': 58, 'ipi': 57, 'gas': 55, 'meal-feed': 50, 'rubber': 49, 'barley': 48, 'zinc': 43, 'palm-oil': 42, 'pet-chem': 41, 'silver': 36, 'lead': 35, 'rapeseed': 35, 'sorghum': 34, 'tin': 33, 'strategic-metal': 32, 'wpi': 29, 'fuel': 28, 'hog': 26, 'soy-meal': 26, 'heat': 25, 'orange': 25, 'soy-oil': 25, 'retail': 23, 'housing': 18, 'lumber': 17, 'stg': 17, 'sunseed': 17, 'tea': 15, 'dmk': 14, 'lei': 13, 'oat': 13, 'income': 12, 'nickel': 11, 'platinum': 11, 'groundnut': 10, 'l-cattle': 9, 'jet': 8, 'rape-oil': 8, 'sun-oil': 8, 'coconut-oil': 7, 'naphtha': 7, 'coconut': 6, 'inventories': 6, 'potato': 6, 'propane': 6, 'instal-debt': 5, 'austdlr': 4, 'nzdlr': 4, 'plywood': 4, 'tapioca': 4, 'can': 3, 'copra-cake': 3, 'cotton-oil': 3, 'dfl': 3, 'f-cattle': 3, 'lit': 3, 'palladium': 3, 'palmkernel': 3, 'pork-belly': 3, 'rand': 3, 'saudriyal': 3, 'sfr': 3, 'castor-oil': 2, 'cornglutenfeed': 2, 'cpu': 2, 'fishmeal': 2, 'groundnut-oil': 2, 'lin-oil': 2, 'linseed': 2, 'nkr': 2, 'rye': 2, 'sun-meal': 2, 'wool': 2, 'bfr': 1, 'castorseed': 1, 'citruspulp': 1, 'corn-oil': 1, 'cottonseed': 1, 'dkr': 1, 'hk': 1, 'lin-meal': 1, 'peseta': 1, 'rape-meal': 1, 'red-bean': 1, 'ringgit': 1, 'rupiah': 1, 'skr': 1, 'austral': 0, 'castor-meal': 0, 'cotton-meal': 0, 'cruzado': 0, 'drachma': 0, 'escudo': 0, 'ffr': 0, 'flaxseed': 0, 'groundnut-meal': 0, 'lupin': 0, 'mexpeso': 0, 'palm-meal': 0, 'silk': 0, 'singdlr': 0, 'tung': 0, 'tung-oil': 0})\n"
     ]
    }
   ],
   "source": [
    "from collections import Counter\n",
    "topic_list = os.path.join(full_reuters_small_path, \"all-topics-strings.lc.txt\")\n",
    "with open(topic_list, \"r\") as topic_file:\n",
    "    topics = topic_file.readlines()\n",
    "    topics = [t.strip() for t in topics]\n",
    "topic_counter = Counter({topic: 0 for topic in topics})\n",
    "for document in documents_with_topics_and_bodies.values():\n",
    "    topic_counter.update({topic: 1 for topic in document[\"topics\"]})\n",
    "\n",
    "print(topic_counter)"
   ]
  },
  {
   "cell_type": "code",
   "execution_count": 36,
   "metadata": {},
   "outputs": [],
   "source": [
    "corpus_topics = {document_id: document[\"topics\"] for document_id, document in documents_with_topics_and_bodies.items()}"
   ]
  },
  {
   "cell_type": "code",
   "execution_count": 41,
   "metadata": {},
   "outputs": [
    {
     "name": "stdout",
     "output_type": "stream",
     "text": [
      "13067,13070,13458,6267,124,136,4524,4637,1299,1406,1623,1631,1731,1845,15303,15580,15914,8374,8613,8656,8686,8895,8943,14212,14313,14340,14389,14828,21123,19964,3390,5363,5408,5611,5800,5826,5972,11065,11768,11862,12338,12830,9907,16359,7154\n"
     ]
    }
   ],
   "source": [
    "grain_documents = []\n",
    "for document_id, topics in corpus_topics.items():\n",
    "    if \"grain\" in topics and len(topics) == 1:\n",
    "        grain_documents.append(str(document_id))\n",
    "print(','.join(grain_documents))"
   ]
  }
 ],
 "metadata": {
  "interpreter": {
   "hash": "f9f85f796d01129d0dd105a088854619f454435301f6ffec2fea96ecbd9be4ac"
  },
  "kernelspec": {
   "display_name": "Python 3.9.5 64-bit",
   "language": "python",
   "name": "python3"
  },
  "language_info": {
   "codemirror_mode": {
    "name": "ipython",
    "version": 3
   },
   "file_extension": ".py",
   "mimetype": "text/x-python",
   "name": "python",
   "nbconvert_exporter": "python",
   "pygments_lexer": "ipython3",
   "version": "3.9.5"
  },
  "orig_nbformat": 4
 },
 "nbformat": 4,
 "nbformat_minor": 2
}
